{
  "nbformat": 4,
  "nbformat_minor": 0,
  "metadata": {
    "colab": {
      "provenance": [],
      "authorship_tag": "ABX9TyPa8Kb7jvmgdUWKIxg+kZzq",
      "include_colab_link": true
    },
    "kernelspec": {
      "name": "python3",
      "display_name": "Python 3"
    },
    "language_info": {
      "name": "python"
    }
  },
  "cells": [
    {
      "cell_type": "markdown",
      "metadata": {
        "id": "view-in-github",
        "colab_type": "text"
      },
      "source": [
        "<a href=\"https://colab.research.google.com/github/harshsinha-12/DataVisualisationSem1AssignmentsIITP/blob/main/Assignment1NewbyHarsh.ipynb\" target=\"_parent\"><img src=\"https://colab.research.google.com/assets/colab-badge.svg\" alt=\"Open In Colab\"/></a>"
      ]
    },
    {
      "cell_type": "markdown",
      "source": [
        "\n",
        "\n",
        "```\n",
        "Question 1:\n",
        "\n",
        "Describe one example of how data science affects your\n",
        "day-to-day life. (Ex: Weather forecasting) Does it help\n",
        "or complicate your life? Why or why not. (write in the Colab text cell)\n",
        "```\n",
        "\n",
        "```\n",
        "Answer 1\n",
        "```\n",
        "\n",
        "An illustration of how data science impacts my everyday existence is via customised recommendations in streaming utilities. Services, such as Netflix, Spotify and YouTube, employ sophisticated data science formulas to scrutinize my viewing or listening past, inclinations, and conduct to suggest tailored content that piques my interests.\n",
        "\n",
        "This bears both positive and negative facets in my life:\n",
        "\n",
        "> Positive Facets:\n",
        "\n",
        "> Convenience: Data science-driven suggestions make it simpler for me to stumble upon new films, TV shows, music, and video clips I might like. I'm alleviated from having to invest as much time combing through content manually.\n",
        "\n",
        "> Personalization: These formulas forge a more personalised entertainment experience guaranteeing that what I see aligns with my liking resulting in more satisfying and immersive entertainment choices.\n",
        "\n",
        "> Time-saving: It helps me save time by limiting the need to rummage through a colossal catalogue of options. Chances of finding engrossing content that intrigues me escalate rapidly.\n",
        "\n",
        "> Negative Facets :\n",
        "\n",
        "> Filter Bubble: Data science algorithms tend to display content conforming with my established preferences which might create a filter bubble. Consequently, I may lose out on diverse material that extends beyond my regular interests.\n",
        "\n",
        "> An Excess of Dependence: There is an inherent danger in relying too heavily on suggestions and potentially missing out on the thrill of serendipitous discoveries or venturing into unchartered territories of content.\n",
        "\n",
        "> Confidentiality Worries: In order to deliver tailored recommendations, these platforms accumulate a substantial trove of data pertaining to my viewing and hearing preferences, which could raise confidentiality concerns.\n",
        "\n",
        "To summarize, guidance driven by data science in streaming services offers convenience and personalisation that makes it simpler for me to locate captivating content. However, there exists the possibility of exacerbating echo chambers, excessive dependence on algorithms and privacy issues. Ultimately, the influence of data science in this context lies on how well these services maintain equilibrium between personalisation and variety alongside user privacy.\n",
        "\n",
        "\n"
      ],
      "metadata": {
        "id": "-Jpic349Aw2n"
      }
    },
    {
      "cell_type": "markdown",
      "source": [],
      "metadata": {
        "id": "o33kyxweBRK7"
      }
    }
  ]
}