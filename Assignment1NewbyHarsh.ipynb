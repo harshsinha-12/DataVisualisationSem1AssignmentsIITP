{
  "nbformat": 4,
  "nbformat_minor": 0,
  "metadata": {
    "colab": {
      "provenance": [],
      "authorship_tag": "ABX9TyMbVroD3ysP6bkR+d9c4g3V",
      "include_colab_link": true
    },
    "kernelspec": {
      "name": "python3",
      "display_name": "Python 3"
    },
    "language_info": {
      "name": "python"
    }
  },
  "cells": [
    {
      "cell_type": "markdown",
      "metadata": {
        "id": "view-in-github",
        "colab_type": "text"
      },
      "source": [
        "<a href=\"https://colab.research.google.com/github/harshsinha-12/DataVisualisationSem1AssignmentsIITP/blob/main/Assignment1NewbyHarsh.ipynb\" target=\"_parent\"><img src=\"https://colab.research.google.com/assets/colab-badge.svg\" alt=\"Open In Colab\"/></a>"
      ]
    },
    {
      "cell_type": "markdown",
      "source": [
        "\n",
        "\n",
        "```\n",
        "Question 1:\n",
        "\n",
        "Describe one example of how data science affects your\n",
        "day-to-day life. (Ex: Weather forecasting) Does it help\n",
        "or complicate your life? Why or why not. (write in the Colab text cell)\n",
        "```\n",
        "\n",
        "```\n",
        "Answer 1:\n",
        "```\n",
        "\n",
        "An illustration of how data science impacts my everyday existence is via customised recommendations in streaming utilities. Services, such as Netflix, Spotify and YouTube, employ sophisticated data science formulas to scrutinize my viewing or listening past, inclinations, and conduct to suggest tailored content that piques my interests.\n",
        "\n",
        "This bears both positive and negative facets in my life:\n",
        "\n",
        "> Positive Facets:\n",
        "\n",
        "> Convenience: Data science-driven suggestions make it simpler for me to stumble upon new films, TV shows, music, and video clips I might like. I'm alleviated from having to invest as much time combing through content manually.\n",
        "\n",
        "> Personalization: These formulas forge a more personalised entertainment experience guaranteeing that what I see aligns with my liking resulting in more satisfying and immersive entertainment choices.\n",
        "\n",
        "> Time-saving: It helps me save time by limiting the need to rummage through a colossal catalogue of options. Chances of finding engrossing content that intrigues me escalate rapidly.\n",
        "\n",
        "> Negative Facets :\n",
        "\n",
        "> Filter Bubble: Data science algorithms tend to display content conforming with my established preferences which might create a filter bubble. Consequently, I may lose out on diverse material that extends beyond my regular interests.\n",
        "\n",
        "> An Excess of Dependence: There is an inherent danger in relying too heavily on suggestions and potentially missing out on the thrill of serendipitous discoveries or venturing into unchartered territories of content.\n",
        "\n",
        "> Confidentiality Worries: In order to deliver tailored recommendations, these platforms accumulate a substantial trove of data pertaining to my viewing and hearing preferences, which could raise confidentiality concerns.\n",
        "\n",
        "To summarize, guidance driven by data science in streaming services offers convenience and personalisation that makes it simpler for me to locate captivating content. However, there exists the possibility of exacerbating echo chambers, excessive dependence on algorithms and privacy issues. Ultimately, the influence of data science in this context lies on how well these services maintain equilibrium between personalisation and variety alongside user privacy.\n",
        "\n",
        "\n"
      ],
      "metadata": {
        "id": "-Jpic349Aw2n"
      }
    },
    {
      "cell_type": "markdown",
      "source": [
        "\n",
        "\n",
        "```\n",
        "Question 2:\n",
        "\n",
        "Suppose we want to perform a health analysis of a person\n",
        "using body parameters. What are various parameters of\n",
        "the body you would observe? (Ex: Blood Pressure) Briefly\n",
        "explain any four parameter's significance for health\n",
        "analysis. (write in the Colab text cell)\n",
        "```\n",
        "\n",
        "\n",
        "\n",
        "```\n",
        "Answer 2:\n",
        "```\n",
        "\n",
        "When performing an analysis of a person's health using body parameters, various aspects and measurements can be observed. Here are four crucial body parameters and their value when determining health:\n",
        "\n",
        "> Blood Pressure (BP):\n",
        "\n",
        "> Significance: Blood pressure gauges the force applied by blood on walls of arteries and is valued with two variables: systolic (force when the heartbeats) and diastolic (force between beats). Elevated blood pressure (hypertension) could signify heightened risks for cardiovascular diseases such as stroke and heart ailments. Decreased blood pressure might imply circulatory issues or undisclosed health problems.\n",
        "\n",
        "> Body Mass Index (BMI):\n",
        "\n",
        "> Significance: BMI is a proportion of a person's height to weight which helps determine if someone is underweight, normal, overweight or obese. It aids in identifying potential weight related health issues such as obesity which might increase the danger of developing diabetes, heart disease or joint troubles.\n",
        "\n",
        "> Cholesterol Levels:\n",
        "\n",
        "> Importance: Cholesterol relates to a type of fat within blood; and its levels, particularly LDL (low-density lipoprotein) and HDL (high-density lipoprotein), are necessary for heart wellness. Larger LDL cholesterol levels correlate with augmented chances for heart maladies while higher HDL cholesterol levels act as protection.\n",
        "\n",
        "> Fasting Blood Glucose (Blood Sugar) Levels:\n",
        "\n",
        "> Importance: Keeping track of blood glucose levels helps gauge the possibility of diabetes and overall sugar metabolism. Elevated fasting blood sugar levels might indicate pre-diabetes or diabetes which if left unmanaged can lead to complications such as nerve damage, kidney disease, and cardiovascular problems.\n",
        "\n",
        "These indicators are only a handful from the many that healthcare professionals consider during an individual's health evaluation. A thorough health assessment may include further factors such as pulse rate, hip span, lipid makeup, etc. These records offer valuable glimpses into one's overall health conditions facilitating prompt spotting and treatment.\n",
        "\n"
      ],
      "metadata": {
        "id": "o33kyxweBRK7"
      }
    }
  ]
}